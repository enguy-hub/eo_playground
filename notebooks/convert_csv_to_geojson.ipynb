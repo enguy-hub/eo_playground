{
 "cells": [
  {
   "cell_type": "code",
   "execution_count": 4,
   "metadata": {},
   "outputs": [],
   "source": [
    "import pandas as pd\n",
    "from shapely.geometry import Polygon"
   ]
  },
  {
   "cell_type": "code",
   "execution_count": 5,
   "metadata": {},
   "outputs": [],
   "source": [
    "# Function to create a shapely Polygon object from corner coordinates\n",
    "def create_polygon(row):\n",
    "    # Extract the coordinates of the corners and create a Polygon\n",
    "    coordinates = [\n",
    "        (row['Longitude_of_Field_Corner_#1 (lower left)'], row['Latitude_of_Field_Corner_#1 (lower left)']),\n",
    "        (row['Longitude_of_Field_Corner_#2 (lower right)'], row['Latitude_of_Field_Corner_#2 (lower right)']),\n",
    "        (row['Longitude_of_Field_Corner_#3 (upper right)'], row['Latitude_of_Field_Corner_#3 (upper right)']),\n",
    "        (row['Longitude_of_Field_Corner_#4 (upper left)'], row['Latitude_of_Field_Corner_#4 (upper left)']),\n",
    "        (row['Longitude_of_Field_Corner_#1 (lower left)'], row['Latitude_of_Field_Corner_#1 (lower left)'])  # Close the polygon\n",
    "    ]\n",
    "    return Polygon(coordinates)"
   ]
  },
  {
   "cell_type": "code",
   "execution_count": 8,
   "metadata": {},
   "outputs": [
    {
     "name": "stdout",
     "output_type": "stream",
     "text": [
      "CSV file with polygons saved to /home/hn/Garden/NoMaze_Satellite/data/g2f_2017_field_polygon.csv\n"
     ]
    },
    {
     "name": "stderr",
     "output_type": "stream",
     "text": [
      "/tmp/ipykernel_11238/4254537366.py:10: SettingWithCopyWarning: \n",
      "A value is trying to be set on a copy of a slice from a DataFrame.\n",
      "Try using .loc[row_indexer,col_indexer] = value instead\n",
      "\n",
      "See the caveats in the documentation: https://pandas.pydata.org/pandas-docs/stable/user_guide/indexing.html#returning-a-view-versus-a-copy\n",
      "  final_data['Field_Polygon'] = final_data['Field_Polygon'].apply(lambda poly: poly.wkt)\n"
     ]
    }
   ],
   "source": [
    "# Load the CSV file\n",
    "file_path = '/home/hn/Garden/NoMaze_Satellite/data/g2f_2017_field_coordinates_org.csv'  # Replace with the path to your original CSV file\n",
    "data = pd.read_csv(file_path, sep=';')\n",
    "\n",
    "# Apply the function to each row in the DataFrame\n",
    "data['Field_Polygon'] = data.apply(create_polygon, axis=1)\n",
    "\n",
    "# Create the final DataFrame with only the 'Experiment_Code' and 'Field_Polygon' in WKT format\n",
    "final_data = data[['Experiment_Code', 'Field_Polygon']]\n",
    "final_data['Field_Polygon'] = final_data['Field_Polygon'].apply(lambda poly: poly.wkt)\n",
    "\n",
    "# Save the final DataFrame to a new CSV file\n",
    "output_file_path = '/home/hn/Garden/NoMaze_Satellite/data/g2f_2017_field_polygon.csv'  # Replace with your desired output path\n",
    "final_data.to_csv(output_file_path, index=False)\n",
    "\n",
    "print(f\"CSV file with polygons saved to {output_file_path}\")"
   ]
  }
 ],
 "metadata": {
  "kernelspec": {
   "display_name": "Python 3 (ipykernel)",
   "language": "python",
   "name": "python3"
  },
  "language_info": {
   "codemirror_mode": {
    "name": "ipython",
    "version": 3
   },
   "file_extension": ".py",
   "mimetype": "text/x-python",
   "name": "python",
   "nbconvert_exporter": "python",
   "pygments_lexer": "ipython3",
   "version": "3.10.13"
  }
 },
 "nbformat": 4,
 "nbformat_minor": 5
}
